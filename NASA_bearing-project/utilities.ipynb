{
 "cells": [
  {
   "cell_type": "code",
   "execution_count": 19,
   "metadata": {},
   "outputs": [],
   "source": [
    "import re\n",
    "import numpy as np\n",
    "import pandas as pd\n"
   ]
  },
  {
   "cell_type": "code",
   "execution_count": 20,
   "metadata": {},
   "outputs": [],
   "source": [
    "def alphanumeric_sort(s):\n",
    "    \n",
    "    '''    alpha numeric sort for keeping relations between plots and .csv files '''\n",
    "    \n",
    "    _nsre = re.compile('([0-9]+)')\n",
    "    return [int(text) if text.isdigit() else text.lower()\n",
    "            for text in re.split(_nsre, s)]   "
   ]
  },
  {
   "cell_type": "code",
   "execution_count": null,
   "metadata": {},
   "outputs": [],
   "source": [
    "def getDivs(N):\n",
    "    factors = {1}\n",
    "    maxP  = int(N**0.5)\n",
    "    p,inc = 2,1\n",
    "    while p <= maxP:\n",
    "        while N%p==0:\n",
    "            factors.update([f*p for f in factors])\n",
    "            N //= p\n",
    "            maxP = int(N**0.5)\n",
    "        p,inc = p+inc,2\n",
    "    if N>1:\n",
    "        factors.update([f*N for f in factors])\n",
    "    return sorted(factors) "
   ]
  },
  {
   "cell_type": "code",
   "execution_count": 1,
   "metadata": {},
   "outputs": [],
   "source": [
    "def line_coeff(P, Q):\n",
    "    \n",
    "    x1 = P[0]\n",
    "    y1 = P[1]\n",
    "    \n",
    "    x2 = Q[0]\n",
    "    y2 = Q[1]\n",
    "    \n",
    "    m = (y1-y2)/(x1-x2)\n",
    "    b = (x1*y2 - x2*y1)/(x1-x2)\n",
    "    \n",
    "    return m, b"
   ]
  }
 ],
 "metadata": {
  "kernelspec": {
   "display_name": "Python 3.8.10 64-bit",
   "language": "python",
   "name": "python3"
  },
  "language_info": {
   "codemirror_mode": {
    "name": "ipython",
    "version": 3
   },
   "file_extension": ".py",
   "mimetype": "text/x-python",
   "name": "python",
   "nbconvert_exporter": "python",
   "pygments_lexer": "ipython3",
   "version": "3.8.10 (default, Jun 22 2022, 20:18:18) \n[GCC 9.4.0]"
  },
  "orig_nbformat": 4,
  "vscode": {
   "interpreter": {
    "hash": "916dbcbb3f70747c44a77c7bcd40155683ae19c65e1c03b4aa3499c5328201f1"
   }
  }
 },
 "nbformat": 4,
 "nbformat_minor": 2
}
